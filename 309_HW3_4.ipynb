{
 "cells": [
  {
   "cell_type": "markdown",
   "id": "60f54920",
   "metadata": {},
   "source": [
    "# ICCS309 Homework 3 Problem 4"
   ]
  },
  {
   "cell_type": "markdown",
   "id": "8b860ca1",
   "metadata": {},
   "source": [
    "### Chayut Chunsamphran 6381250"
   ]
  },
  {
   "cell_type": "code",
   "execution_count": 1,
   "id": "d142d3fc",
   "metadata": {},
   "outputs": [],
   "source": [
    "import numpy as np\n",
    "import matplotlib.pyplot as plt\n",
    "import math"
   ]
  },
  {
   "cell_type": "markdown",
   "id": "f26b18ea",
   "metadata": {},
   "source": [
    "In this program, let $1$ represent a boy and $0$ represent a girl."
   ]
  },
  {
   "cell_type": "code",
   "execution_count": 11,
   "id": "91b5a1fa",
   "metadata": {},
   "outputs": [],
   "source": [
    "#functions\n",
    "\n",
    "def genbaby(n: int) -> np.ndarray:\n",
    "    # Generates an array of n entries with equal probability of being 0 or 1\n",
    "    return np.random.randint(2, size=n)\n",
    "\n",
    "\n",
    "def boypercent(babies: np.ndarray) -> float:\n",
    "    # Count the percentage of 1 in a baby array\n",
    "    boys = np.count_nonzero(babies)\n",
    "    return boys / len(babies) * 100\n",
    "\n",
    "\n",
    "def hospital(n: int, p: float, days: int) -> float:\n",
    "    # Count the percentage of days where the number of boys from n born exceeds p percent\n",
    "    passes = 0\n",
    "    for _ in range(days):\n",
    "        if boypercent(genbaby(n)) >= p:\n",
    "            passes += 1\n",
    "        else:\n",
    "            continue\n",
    "    return passes / days * 100"
   ]
  },
  {
   "cell_type": "code",
   "execution_count": 14,
   "id": "657f1e25",
   "metadata": {},
   "outputs": [
    {
     "name": "stdout",
     "output_type": "stream",
     "text": [
      "Percentage of days where the number of boys in hospital A is at least 60% is 30.573%\n",
      "Percentage of days where the number of boys in hospital B is at least 60% is 11.669%\n"
     ]
    }
   ],
   "source": [
    "A = hospital(15, 60, 100000)\n",
    "B = hospital(45, 60, 100000)\n",
    "\n",
    "print(f\"Percentage of days where the number of boys in hospital A is at least 60% is {A}%\")\n",
    "print(f\"Percentage of days where the number of boys in hospital B is at least 60% is {B}%\")"
   ]
  },
  {
   "cell_type": "markdown",
   "id": "791c3391",
   "metadata": {},
   "source": [
    "The number should go down when $n$ is larger. Consider the following: if we have $10$ babies, then it only takes $1$ more boy from the expected $50\\%$ to have at least $60\\%$ boys. But if we have $100$ babies, then it takes $10$ more boys to have at least $60\\%$ boys. This is to say that, the larger the sample size, the smaller the contribution from each individual data point. So when one is in accurate (or in this case due to randomness), it has less significant effect on the overall data when you have larger sample size."
   ]
  },
  {
   "cell_type": "code",
   "execution_count": 15,
   "id": "7c824bcf",
   "metadata": {},
   "outputs": [
    {
     "name": "stdout",
     "output_type": "stream",
     "text": [
      "Percentage of days where the number of boys in hospital C is at least 60% is 2.827%\n"
     ]
    }
   ],
   "source": [
    "C = hospital(100, 60, 100000)\n",
    "\n",
    "print(f\"Percentage of days where the number of boys in hospital C is at least 60% is {C}%\")"
   ]
  },
  {
   "cell_type": "code",
   "execution_count": 30,
   "id": "1992bd6f",
   "metadata": {},
   "outputs": [
    {
     "name": "stdout",
     "output_type": "stream",
     "text": [
      "Figure(432x288)\n"
     ]
    },
    {
     "data": {
      "image/png": "[encoded data removed]",
      "text/plain": [
       "<Figure size 432x288 with 3 Axes>"
      ]
     },
     "metadata": {
      "needs_background": "light"
     },
     "output_type": "display_data"
    }
   ],
   "source": [
    "# histogram\n",
    "distA = np.array([boypercent(genbaby(15)) for _ in range(100000)])\n",
    "distB = np.array([boypercent(genbaby(45)) for _ in range(100000)])\n",
    "distC = np.array([boypercent(genbaby(100)) for _ in range(100000)])\n",
    "    \n",
    "fig, axs = plt.subplots(1, 3, sharey=True, tight_layout=True)\n",
    "\n",
    "axs[0].hist(distA, bins=100)\n",
    "axs[1].hist(distB, bins=100)\n",
    "axs[2].hist(distC, bins=100)\n",
    "\n",
    "print(fig)"
   ]
  }
 ],
 "metadata": {
  "kernelspec": {
   "display_name": "Python 3 (ipykernel)",
   "language": "python",
   "name": "python3"
  },
  "language_info": {
   "codemirror_mode": {
    "name": "ipython",
    "version": 3
   },
   "file_extension": ".py",
   "mimetype": "text/x-python",
   "name": "python",
   "nbconvert_exporter": "python",
   "pygments_lexer": "ipython3",
   "version": "3.9.7"
  }
 },
 "nbformat": 4,
 "nbformat_minor": 5
}
